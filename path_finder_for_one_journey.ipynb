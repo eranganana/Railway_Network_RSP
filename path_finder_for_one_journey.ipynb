{
 "cells": [
  {
   "cell_type": "code",
   "execution_count": 58,
   "id": "95a205da",
   "metadata": {},
   "outputs": [],
   "source": [
    "import pandas as pd\n",
    "origin = 'Cst'\n",
    "destination = 'Blg'"
   ]
  },
  {
   "cell_type": "code",
   "execution_count": 59,
   "id": "19922891",
   "metadata": {},
   "outputs": [],
   "source": [
    "df_month_data = pd.read_csv(\"month_data.csv\",sep=\";\",index_col=False,encoding=\"utf-8\")\n",
    "df_filtered_data = df_month_data[\n",
    "    (df_month_data['Förstaplatssignatur_för_Uppdrag'] == origin) & \n",
    "    (df_month_data['Sistaplatssignatur_för_Uppdrag'] == destination)\n",
    "]"
   ]
  },
  {
   "cell_type": "code",
   "execution_count": 60,
   "id": "c788e370",
   "metadata": {},
   "outputs": [],
   "source": [
    "file_name = origin + \"_to_\" + destination + \".csv\"\n",
    "df_filtered_data.to_csv(file_name)\n",
    "df_origin_to_desti = pd.read_csv(file_name,index_col=False,encoding=\"utf-8\")"
   ]
  },
  {
   "cell_type": "code",
   "execution_count": 61,
   "id": "759f63d8",
   "metadata": {},
   "outputs": [],
   "source": [
    "journey_list = df_origin_to_desti['Tåguppdrag'].unique()"
   ]
  },
  {
   "cell_type": "code",
   "execution_count": 62,
   "id": "9a314aad",
   "metadata": {},
   "outputs": [],
   "source": [
    "def get_route(df_journey):\n",
    "    route =[]\n",
    "    for _, row in df_journey.iterrows():\n",
    "        if row['Avgångsplats'] not in route:\n",
    "            route.append(row['Avgångsplats'])\n",
    "        if row['Ankomstplats'] not in route:\n",
    "            route.append(row['Ankomstplats'])\n",
    "    return '-'.join(list(route))"
   ]
  },
  {
   "cell_type": "code",
   "execution_count": 63,
   "id": "55d627f9",
   "metadata": {},
   "outputs": [
    {
     "name": "stdout",
     "output_type": "stream",
     "text": [
      "There are  3  routes\n",
      "Mora-Garsås-Stockholm C-Karlberg-Rättvik-Tomteboda övre-Tällberg-Solna-Ulriksdal-Leksboda-Leksand-Helenelund-Kummelby-Insjön-Sollentuna-Gagnef-Häggvik-Djurås-Repbäcken-Norrviken-Rotebro-Borlänge c-Upplands Väsby-Skavstaby-Rosersberg-Brista-Märsta-Myrbacken-Knivsta-Ekeby-Säby-Uppsala c-Uppsala norra-Brunna-Järlåsa-Morgongåva-Heby-Isätra-Sala-Broddbo-Rosshyttan-Avesta Krylbo-Avesta Centrum-Snickarbo-Hedemora-Vikmanshyttan-Säter-Gustafs-Stora Tuna\n",
      "Stockholm C-Karlberg-Tomteboda övre-Solna-Ulriksdal-Helenelund-Kummelby-Sollentuna-Häggvik-Norrviken-Rotebro-Upplands Väsby-Skavstaby-Blackvreten-Arlanda nedre-Arlanda Central-Myrbacken-Knivsta-Ekeby-Säby-Uppsala c-Uppsala norra-Brunna-Järlåsa-Morgongåva-Heby-Isätra-Sala-Broddbo-Rosshyttan-Avesta Krylbo-Avesta Centrum-Snickarbo-Hedemora-Vikmanshyttan-Säter-Gustafs-Stora Tuna-Borlänge c\n",
      "Stockholm C-Stockholm Södra-Eskilstuna c-Folkesta-Rekarne-Årstaberg-Kungsör-Älvsjö-Valskog-Stuvsta-Huddinge-Arboga-Flemingsberg-Jädersbruk-Tullinge-Ålsäng-Utsikten-Fellingsbro-Tumba-Frövi-Vedevåg-Söderby-Lindesberg-Garnudden-Storå-Rönninge-Dånviken-Rällså-Kopparberg-Östertälje-Ställdalen-Södertälje hamn-Södertälje syd undre-Grängesbergs malmbangård-Södertälje syd övre-Grängesberg-Almnäs-Klenshyttan-Ludvika-Nykvarn-Gräsberg-Ryssjöbrink-Läggesta-Rämshyttan-Ulvshyttan-Grundbro-Malmby-Sellnäs-Strängnäs-Borlänge c-Härad-Barva-Kjula\n"
     ]
    }
   ],
   "source": [
    "routes = set()\n",
    "for journey in journey_list:\n",
    "    df_journey = df_origin_to_desti[(df_origin_to_desti['Tåguppdrag']== journey)]\n",
    "    date_list = df_journey['Datum_PAU'].unique()\n",
    "    for date in date_list:\n",
    "        one_journey = df_origin_to_desti[\n",
    "        (df_origin_to_desti['Tåguppdrag'] == journey) & \n",
    "        (df_origin_to_desti['Datum_PAU'] == date)]\n",
    "        sorted_journey = one_journey.sort_values(by='DelSträckanummer')\n",
    "        intermediate_file_name = origin + \"_to_\" + destination + \"_\" + str(journey) + \"_\" + str(date) + \".csv\"\n",
    "        # sorted_journey.to_csv(intermediate_file_name,encoding=\"utf-8\",index=False)\n",
    "        route = get_route(sorted_journey)\n",
    "        routes.add(route)\n",
    "print('There are ',len(routes),' routes')\n",
    "for route in routes:\n",
    "    print(route)\n",
    "        "
   ]
  }
 ],
 "metadata": {
  "kernelspec": {
   "display_name": "base",
   "language": "python",
   "name": "python3"
  },
  "language_info": {
   "codemirror_mode": {
    "name": "ipython",
    "version": 3
   },
   "file_extension": ".py",
   "mimetype": "text/x-python",
   "name": "python",
   "nbconvert_exporter": "python",
   "pygments_lexer": "ipython3",
   "version": "3.12.3"
  }
 },
 "nbformat": 4,
 "nbformat_minor": 5
}
