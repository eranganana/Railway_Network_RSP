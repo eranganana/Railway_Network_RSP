{
 "cells": [
  {
   "cell_type": "code",
   "execution_count": 1,
   "id": "22bdb196",
   "metadata": {},
   "outputs": [],
   "source": [
    "import pandas as pd\n",
    "import numpy as np"
   ]
  },
  {
   "cell_type": "code",
   "execution_count": null,
   "id": "63c25b99",
   "metadata": {},
   "outputs": [
    {
     "data": {
      "text/plain": [
       "array([[10.,  1.,  1., inf],\n",
       "       [ 1., 10.,  1.,  1.],\n",
       "       [ 1.,  1., 10.,  1.],\n",
       "       [inf, inf, inf, inf]])"
      ]
     },
     "execution_count": 2,
     "metadata": {},
     "output_type": "execute_result"
    }
   ],
   "source": [
    "c = np.array([\n",
    "    [0,     1,     1],\n",
    "    [1,     0,     1],\n",
    "    [1,     1,     0],\n",
    "])\n",
    "c"
   ]
  },
  {
   "cell_type": "code",
   "execution_count": 4,
   "id": "2cc43b50",
   "metadata": {},
   "outputs": [
    {
     "data": {
      "text/plain": [
       "array([[4.53999298e-05, 3.67879441e-01, 3.67879441e-01, 0.00000000e+00],\n",
       "       [3.67879441e-01, 4.53999298e-05, 3.67879441e-01, 3.67879441e-01],\n",
       "       [3.67879441e-01, 3.67879441e-01, 4.53999298e-05, 3.67879441e-01],\n",
       "       [0.00000000e+00, 0.00000000e+00, 0.00000000e+00, 0.00000000e+00]])"
      ]
     },
     "execution_count": 4,
     "metadata": {},
     "output_type": "execute_result"
    }
   ],
   "source": [
    "w = np.exp(-1 * c)\n",
    "w"
   ]
  },
  {
   "cell_type": "code",
   "execution_count": 5,
   "id": "c1f888b1",
   "metadata": {},
   "outputs": [
    {
     "data": {
      "text/plain": [
       "array([-0.36783404,  0.73580428, -0.36783404,  0.        ])"
      ]
     },
     "execution_count": 5,
     "metadata": {},
     "output_type": "execute_result"
    }
   ],
   "source": [
    "eigan_values = np.linalg.eigvals(w)\n",
    "eigan_values"
   ]
  }
 ],
 "metadata": {
  "kernelspec": {
   "display_name": "base",
   "language": "python",
   "name": "python3"
  },
  "language_info": {
   "codemirror_mode": {
    "name": "ipython",
    "version": 3
   },
   "file_extension": ".py",
   "mimetype": "text/x-python",
   "name": "python",
   "nbconvert_exporter": "python",
   "pygments_lexer": "ipython3",
   "version": "3.12.8"
  }
 },
 "nbformat": 4,
 "nbformat_minor": 5
}
